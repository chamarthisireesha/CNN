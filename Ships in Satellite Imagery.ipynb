{
 "cells": [
  {
   "cell_type": "code",
   "execution_count": 2,
   "metadata": {},
   "outputs": [],
   "source": [
    "import numpy as np\n",
    "import pandas as pd\n",
    "import matplotlib.pyplot as plt\n",
    "import seaborn as sns\n",
    "\n",
    "%matplotlib inline"
   ]
  },
  {
   "cell_type": "code",
   "execution_count": 3,
   "metadata": {},
   "outputs": [],
   "source": [
    "import json"
   ]
  },
  {
   "cell_type": "code",
   "execution_count": 4,
   "metadata": {},
   "outputs": [],
   "source": [
    "d = open('shipsnet.json')\n",
    "data1 = json.load(d)\n",
    "d.close()"
   ]
  },
  {
   "cell_type": "markdown",
   "metadata": {},
   "source": [
    "https://www.kaggle.com/tomras/cnn-classifier-using-keras"
   ]
  },
  {
   "cell_type": "code",
   "execution_count": null,
   "metadata": {},
   "outputs": [],
   "source": []
  },
  {
   "cell_type": "code",
   "execution_count": 5,
   "metadata": {},
   "outputs": [
    {
     "data": {
      "text/plain": [
       "4000"
      ]
     },
     "execution_count": 5,
     "metadata": {},
     "output_type": "execute_result"
    }
   ],
   "source": [
    "len(data1['data'])"
   ]
  },
  {
   "cell_type": "markdown",
   "metadata": {},
   "source": [
    "https://www.kaggle.com/paultimothymooney/identifying-ships-in-satellite-images"
   ]
  },
  {
   "cell_type": "code",
   "execution_count": 6,
   "metadata": {},
   "outputs": [
    {
     "data": {
      "text/plain": [
       "4000"
      ]
     },
     "execution_count": 6,
     "metadata": {},
     "output_type": "execute_result"
    }
   ],
   "source": [
    "len(data1['labels'])"
   ]
  },
  {
   "cell_type": "code",
   "execution_count": 7,
   "metadata": {},
   "outputs": [],
   "source": [
    "ships = pd.DataFrame(data1)"
   ]
  },
  {
   "cell_type": "code",
   "execution_count": 8,
   "metadata": {},
   "outputs": [
    {
     "data": {
      "text/html": [
       "<div>\n",
       "<style scoped>\n",
       "    .dataframe tbody tr th:only-of-type {\n",
       "        vertical-align: middle;\n",
       "    }\n",
       "\n",
       "    .dataframe tbody tr th {\n",
       "        vertical-align: top;\n",
       "    }\n",
       "\n",
       "    .dataframe thead th {\n",
       "        text-align: right;\n",
       "    }\n",
       "</style>\n",
       "<table border=\"1\" class=\"dataframe\">\n",
       "  <thead>\n",
       "    <tr style=\"text-align: right;\">\n",
       "      <th></th>\n",
       "      <th>data</th>\n",
       "      <th>labels</th>\n",
       "      <th>locations</th>\n",
       "      <th>scene_ids</th>\n",
       "    </tr>\n",
       "  </thead>\n",
       "  <tbody>\n",
       "    <tr>\n",
       "      <th>0</th>\n",
       "      <td>[82, 89, 91, 87, 89, 87, 86, 86, 86, 86, 84, 8...</td>\n",
       "      <td>1</td>\n",
       "      <td>[-118.2254694333423, 33.73803725920789]</td>\n",
       "      <td>20180708_180909_0f47</td>\n",
       "    </tr>\n",
       "    <tr>\n",
       "      <th>1</th>\n",
       "      <td>[76, 75, 67, 62, 68, 72, 73, 73, 68, 69, 69, 6...</td>\n",
       "      <td>1</td>\n",
       "      <td>[-122.33222866289329, 37.7491755586813]</td>\n",
       "      <td>20170705_180816_103e</td>\n",
       "    </tr>\n",
       "    <tr>\n",
       "      <th>2</th>\n",
       "      <td>[125, 127, 129, 130, 126, 125, 129, 133, 132, ...</td>\n",
       "      <td>1</td>\n",
       "      <td>[-118.14283073363218, 33.736016066914175]</td>\n",
       "      <td>20180712_211331_0f06</td>\n",
       "    </tr>\n",
       "    <tr>\n",
       "      <th>3</th>\n",
       "      <td>[102, 99, 113, 106, 96, 102, 105, 105, 103, 10...</td>\n",
       "      <td>1</td>\n",
       "      <td>[-122.34784341495181, 37.76648707436548]</td>\n",
       "      <td>20170609_180756_103a</td>\n",
       "    </tr>\n",
       "    <tr>\n",
       "      <th>4</th>\n",
       "      <td>[78, 76, 74, 78, 79, 79, 79, 82, 86, 85, 83, 8...</td>\n",
       "      <td>1</td>\n",
       "      <td>[-122.34852408322172, 37.75878462398653]</td>\n",
       "      <td>20170515_180653_1007</td>\n",
       "    </tr>\n",
       "  </tbody>\n",
       "</table>\n",
       "</div>"
      ],
      "text/plain": [
       "                                                data  labels  \\\n",
       "0  [82, 89, 91, 87, 89, 87, 86, 86, 86, 86, 84, 8...       1   \n",
       "1  [76, 75, 67, 62, 68, 72, 73, 73, 68, 69, 69, 6...       1   \n",
       "2  [125, 127, 129, 130, 126, 125, 129, 133, 132, ...       1   \n",
       "3  [102, 99, 113, 106, 96, 102, 105, 105, 103, 10...       1   \n",
       "4  [78, 76, 74, 78, 79, 79, 79, 82, 86, 85, 83, 8...       1   \n",
       "\n",
       "                                   locations             scene_ids  \n",
       "0    [-118.2254694333423, 33.73803725920789]  20180708_180909_0f47  \n",
       "1    [-122.33222866289329, 37.7491755586813]  20170705_180816_103e  \n",
       "2  [-118.14283073363218, 33.736016066914175]  20180712_211331_0f06  \n",
       "3   [-122.34784341495181, 37.76648707436548]  20170609_180756_103a  \n",
       "4   [-122.34852408322172, 37.75878462398653]  20170515_180653_1007  "
      ]
     },
     "execution_count": 8,
     "metadata": {},
     "output_type": "execute_result"
    }
   ],
   "source": [
    "ships.head()"
   ]
  },
  {
   "cell_type": "code",
   "execution_count": 9,
   "metadata": {},
   "outputs": [
    {
     "name": "stdout",
     "output_type": "stream",
     "text": [
      "<class 'pandas.core.frame.DataFrame'>\n",
      "RangeIndex: 4000 entries, 0 to 3999\n",
      "Data columns (total 4 columns):\n",
      " #   Column     Non-Null Count  Dtype \n",
      "---  ------     --------------  ----- \n",
      " 0   data       4000 non-null   object\n",
      " 1   labels     4000 non-null   int64 \n",
      " 2   locations  4000 non-null   object\n",
      " 3   scene_ids  4000 non-null   object\n",
      "dtypes: int64(1), object(3)\n",
      "memory usage: 125.1+ KB\n"
     ]
    }
   ],
   "source": [
    "ships.info()"
   ]
  },
  {
   "cell_type": "code",
   "execution_count": null,
   "metadata": {},
   "outputs": [],
   "source": []
  },
  {
   "cell_type": "markdown",
   "metadata": {},
   "source": [
    "labels ==1 is the images with Ships and lables ==0 is the number of images without ships"
   ]
  },
  {
   "cell_type": "code",
   "execution_count": 10,
   "metadata": {},
   "outputs": [
    {
     "data": {
      "text/html": [
       "<div>\n",
       "<style scoped>\n",
       "    .dataframe tbody tr th:only-of-type {\n",
       "        vertical-align: middle;\n",
       "    }\n",
       "\n",
       "    .dataframe tbody tr th {\n",
       "        vertical-align: top;\n",
       "    }\n",
       "\n",
       "    .dataframe thead th {\n",
       "        text-align: right;\n",
       "    }\n",
       "</style>\n",
       "<table border=\"1\" class=\"dataframe\">\n",
       "  <thead>\n",
       "    <tr style=\"text-align: right;\">\n",
       "      <th></th>\n",
       "      <th>data</th>\n",
       "      <th>labels</th>\n",
       "      <th>locations</th>\n",
       "      <th>scene_ids</th>\n",
       "    </tr>\n",
       "  </thead>\n",
       "  <tbody>\n",
       "    <tr>\n",
       "      <th>1000</th>\n",
       "      <td>[73, 75, 75, 73, 75, 75, 76, 77, 78, 78, 80, 8...</td>\n",
       "      <td>0</td>\n",
       "      <td>[-122.33459961419122, 37.81140628875495]</td>\n",
       "      <td>20161218_180844_0e26</td>\n",
       "    </tr>\n",
       "    <tr>\n",
       "      <th>1001</th>\n",
       "      <td>[165, 171, 163, 152, 142, 133, 132, 133, 130, ...</td>\n",
       "      <td>0</td>\n",
       "      <td>[-122.13440135290679, 37.74732085488439]</td>\n",
       "      <td>20170505_181257_0e2f</td>\n",
       "    </tr>\n",
       "    <tr>\n",
       "      <th>1002</th>\n",
       "      <td>[198, 202, 210, 214, 217, 221, 223, 222, 223, ...</td>\n",
       "      <td>0</td>\n",
       "      <td>[-122.1377855013356, 37.708030696820344]</td>\n",
       "      <td>20170505_181258_0e2f</td>\n",
       "    </tr>\n",
       "    <tr>\n",
       "      <th>1003</th>\n",
       "      <td>[155, 170, 175, 181, 172, 150, 124, 125, 129, ...</td>\n",
       "      <td>0</td>\n",
       "      <td>[-122.09571903813976, 37.64920246656525]</td>\n",
       "      <td>20170905_181215_0f12</td>\n",
       "    </tr>\n",
       "    <tr>\n",
       "      <th>1004</th>\n",
       "      <td>[74, 80, 80, 81, 81, 81, 82, 81, 83, 84, 80, 8...</td>\n",
       "      <td>0</td>\n",
       "      <td>[-122.38792956593555, 37.82067246616187]</td>\n",
       "      <td>20170917_190616_0f3c</td>\n",
       "    </tr>\n",
       "    <tr>\n",
       "      <th>...</th>\n",
       "      <td>...</td>\n",
       "      <td>...</td>\n",
       "      <td>...</td>\n",
       "      <td>...</td>\n",
       "    </tr>\n",
       "    <tr>\n",
       "      <th>3995</th>\n",
       "      <td>[126, 122, 124, 138, 165, 186, 195, 199, 203, ...</td>\n",
       "      <td>0</td>\n",
       "      <td>[-122.08693255500694, 37.77781408256089]</td>\n",
       "      <td>20170815_180821_102d</td>\n",
       "    </tr>\n",
       "    <tr>\n",
       "      <th>3996</th>\n",
       "      <td>[130, 134, 139, 128, 117, 126, 141, 147, 142, ...</td>\n",
       "      <td>0</td>\n",
       "      <td>[-122.10549691828378, 37.76946626247702]</td>\n",
       "      <td>20170730_191230_0f21</td>\n",
       "    </tr>\n",
       "    <tr>\n",
       "      <th>3997</th>\n",
       "      <td>[171, 135, 118, 140, 145, 144, 154, 165, 139, ...</td>\n",
       "      <td>0</td>\n",
       "      <td>[-122.48298739296371, 37.684929808845375]</td>\n",
       "      <td>20161116_180804_0e14</td>\n",
       "    </tr>\n",
       "    <tr>\n",
       "      <th>3998</th>\n",
       "      <td>[85, 90, 94, 95, 94, 92, 93, 96, 93, 94, 94, 9...</td>\n",
       "      <td>0</td>\n",
       "      <td>[-122.29028216570079, 37.71632091139081]</td>\n",
       "      <td>20170211_181116_0e16</td>\n",
       "    </tr>\n",
       "    <tr>\n",
       "      <th>3999</th>\n",
       "      <td>[122, 122, 126, 126, 142, 153, 174, 190, 185, ...</td>\n",
       "      <td>0</td>\n",
       "      <td>[-122.49531387721586, 37.698557210117706]</td>\n",
       "      <td>20180206_184438_1043</td>\n",
       "    </tr>\n",
       "  </tbody>\n",
       "</table>\n",
       "<p>3000 rows × 4 columns</p>\n",
       "</div>"
      ],
      "text/plain": [
       "                                                   data  labels  \\\n",
       "1000  [73, 75, 75, 73, 75, 75, 76, 77, 78, 78, 80, 8...       0   \n",
       "1001  [165, 171, 163, 152, 142, 133, 132, 133, 130, ...       0   \n",
       "1002  [198, 202, 210, 214, 217, 221, 223, 222, 223, ...       0   \n",
       "1003  [155, 170, 175, 181, 172, 150, 124, 125, 129, ...       0   \n",
       "1004  [74, 80, 80, 81, 81, 81, 82, 81, 83, 84, 80, 8...       0   \n",
       "...                                                 ...     ...   \n",
       "3995  [126, 122, 124, 138, 165, 186, 195, 199, 203, ...       0   \n",
       "3996  [130, 134, 139, 128, 117, 126, 141, 147, 142, ...       0   \n",
       "3997  [171, 135, 118, 140, 145, 144, 154, 165, 139, ...       0   \n",
       "3998  [85, 90, 94, 95, 94, 92, 93, 96, 93, 94, 94, 9...       0   \n",
       "3999  [122, 122, 126, 126, 142, 153, 174, 190, 185, ...       0   \n",
       "\n",
       "                                      locations             scene_ids  \n",
       "1000   [-122.33459961419122, 37.81140628875495]  20161218_180844_0e26  \n",
       "1001   [-122.13440135290679, 37.74732085488439]  20170505_181257_0e2f  \n",
       "1002   [-122.1377855013356, 37.708030696820344]  20170505_181258_0e2f  \n",
       "1003   [-122.09571903813976, 37.64920246656525]  20170905_181215_0f12  \n",
       "1004   [-122.38792956593555, 37.82067246616187]  20170917_190616_0f3c  \n",
       "...                                         ...                   ...  \n",
       "3995   [-122.08693255500694, 37.77781408256089]  20170815_180821_102d  \n",
       "3996   [-122.10549691828378, 37.76946626247702]  20170730_191230_0f21  \n",
       "3997  [-122.48298739296371, 37.684929808845375]  20161116_180804_0e14  \n",
       "3998   [-122.29028216570079, 37.71632091139081]  20170211_181116_0e16  \n",
       "3999  [-122.49531387721586, 37.698557210117706]  20180206_184438_1043  \n",
       "\n",
       "[3000 rows x 4 columns]"
      ]
     },
     "execution_count": 10,
     "metadata": {},
     "output_type": "execute_result"
    }
   ],
   "source": [
    "ships[ships['labels']==0]"
   ]
  },
  {
   "cell_type": "code",
   "execution_count": 11,
   "metadata": {},
   "outputs": [
    {
     "data": {
      "text/html": [
       "<div>\n",
       "<style scoped>\n",
       "    .dataframe tbody tr th:only-of-type {\n",
       "        vertical-align: middle;\n",
       "    }\n",
       "\n",
       "    .dataframe tbody tr th {\n",
       "        vertical-align: top;\n",
       "    }\n",
       "\n",
       "    .dataframe thead th {\n",
       "        text-align: right;\n",
       "    }\n",
       "</style>\n",
       "<table border=\"1\" class=\"dataframe\">\n",
       "  <thead>\n",
       "    <tr style=\"text-align: right;\">\n",
       "      <th></th>\n",
       "      <th>data</th>\n",
       "      <th>labels</th>\n",
       "      <th>locations</th>\n",
       "      <th>scene_ids</th>\n",
       "    </tr>\n",
       "  </thead>\n",
       "  <tbody>\n",
       "    <tr>\n",
       "      <th>0</th>\n",
       "      <td>[82, 89, 91, 87, 89, 87, 86, 86, 86, 86, 84, 8...</td>\n",
       "      <td>1</td>\n",
       "      <td>[-118.2254694333423, 33.73803725920789]</td>\n",
       "      <td>20180708_180909_0f47</td>\n",
       "    </tr>\n",
       "    <tr>\n",
       "      <th>1</th>\n",
       "      <td>[76, 75, 67, 62, 68, 72, 73, 73, 68, 69, 69, 6...</td>\n",
       "      <td>1</td>\n",
       "      <td>[-122.33222866289329, 37.7491755586813]</td>\n",
       "      <td>20170705_180816_103e</td>\n",
       "    </tr>\n",
       "    <tr>\n",
       "      <th>2</th>\n",
       "      <td>[125, 127, 129, 130, 126, 125, 129, 133, 132, ...</td>\n",
       "      <td>1</td>\n",
       "      <td>[-118.14283073363218, 33.736016066914175]</td>\n",
       "      <td>20180712_211331_0f06</td>\n",
       "    </tr>\n",
       "    <tr>\n",
       "      <th>3</th>\n",
       "      <td>[102, 99, 113, 106, 96, 102, 105, 105, 103, 10...</td>\n",
       "      <td>1</td>\n",
       "      <td>[-122.34784341495181, 37.76648707436548]</td>\n",
       "      <td>20170609_180756_103a</td>\n",
       "    </tr>\n",
       "    <tr>\n",
       "      <th>4</th>\n",
       "      <td>[78, 76, 74, 78, 79, 79, 79, 82, 86, 85, 83, 8...</td>\n",
       "      <td>1</td>\n",
       "      <td>[-122.34852408322172, 37.75878462398653]</td>\n",
       "      <td>20170515_180653_1007</td>\n",
       "    </tr>\n",
       "    <tr>\n",
       "      <th>...</th>\n",
       "      <td>...</td>\n",
       "      <td>...</td>\n",
       "      <td>...</td>\n",
       "      <td>...</td>\n",
       "    </tr>\n",
       "    <tr>\n",
       "      <th>995</th>\n",
       "      <td>[103, 95, 99, 108, 110, 125, 131, 125, 133, 13...</td>\n",
       "      <td>1</td>\n",
       "      <td>[-122.34862085843947, 37.767167357603554]</td>\n",
       "      <td>20170921_181406_1031</td>\n",
       "    </tr>\n",
       "    <tr>\n",
       "      <th>996</th>\n",
       "      <td>[75, 75, 75, 75, 74, 70, 69, 72, 73, 72, 70, 6...</td>\n",
       "      <td>1</td>\n",
       "      <td>[-122.33786604607423, 37.73944613318674]</td>\n",
       "      <td>20170604_180820_0f52</td>\n",
       "    </tr>\n",
       "    <tr>\n",
       "      <th>997</th>\n",
       "      <td>[75, 74, 75, 75, 74, 74, 75, 76, 76, 75, 75, 7...</td>\n",
       "      <td>1</td>\n",
       "      <td>[-122.33284969739871, 37.71792145705744]</td>\n",
       "      <td>20170721_180825_100b</td>\n",
       "    </tr>\n",
       "    <tr>\n",
       "      <th>998</th>\n",
       "      <td>[49, 50, 49, 45, 49, 53, 52, 46, 43, 44, 49, 5...</td>\n",
       "      <td>1</td>\n",
       "      <td>[-122.35668820008198, 37.75991104734941]</td>\n",
       "      <td>20170618_180801_0f34</td>\n",
       "    </tr>\n",
       "    <tr>\n",
       "      <th>999</th>\n",
       "      <td>[113, 114, 112, 110, 111, 111, 114, 110, 112, ...</td>\n",
       "      <td>1</td>\n",
       "      <td>[-122.35032196580875, 37.767393062977916]</td>\n",
       "      <td>20170522_180635_0f42</td>\n",
       "    </tr>\n",
       "  </tbody>\n",
       "</table>\n",
       "<p>1000 rows × 4 columns</p>\n",
       "</div>"
      ],
      "text/plain": [
       "                                                  data  labels  \\\n",
       "0    [82, 89, 91, 87, 89, 87, 86, 86, 86, 86, 84, 8...       1   \n",
       "1    [76, 75, 67, 62, 68, 72, 73, 73, 68, 69, 69, 6...       1   \n",
       "2    [125, 127, 129, 130, 126, 125, 129, 133, 132, ...       1   \n",
       "3    [102, 99, 113, 106, 96, 102, 105, 105, 103, 10...       1   \n",
       "4    [78, 76, 74, 78, 79, 79, 79, 82, 86, 85, 83, 8...       1   \n",
       "..                                                 ...     ...   \n",
       "995  [103, 95, 99, 108, 110, 125, 131, 125, 133, 13...       1   \n",
       "996  [75, 75, 75, 75, 74, 70, 69, 72, 73, 72, 70, 6...       1   \n",
       "997  [75, 74, 75, 75, 74, 74, 75, 76, 76, 75, 75, 7...       1   \n",
       "998  [49, 50, 49, 45, 49, 53, 52, 46, 43, 44, 49, 5...       1   \n",
       "999  [113, 114, 112, 110, 111, 111, 114, 110, 112, ...       1   \n",
       "\n",
       "                                     locations             scene_ids  \n",
       "0      [-118.2254694333423, 33.73803725920789]  20180708_180909_0f47  \n",
       "1      [-122.33222866289329, 37.7491755586813]  20170705_180816_103e  \n",
       "2    [-118.14283073363218, 33.736016066914175]  20180712_211331_0f06  \n",
       "3     [-122.34784341495181, 37.76648707436548]  20170609_180756_103a  \n",
       "4     [-122.34852408322172, 37.75878462398653]  20170515_180653_1007  \n",
       "..                                         ...                   ...  \n",
       "995  [-122.34862085843947, 37.767167357603554]  20170921_181406_1031  \n",
       "996   [-122.33786604607423, 37.73944613318674]  20170604_180820_0f52  \n",
       "997   [-122.33284969739871, 37.71792145705744]  20170721_180825_100b  \n",
       "998   [-122.35668820008198, 37.75991104734941]  20170618_180801_0f34  \n",
       "999  [-122.35032196580875, 37.767393062977916]  20170522_180635_0f42  \n",
       "\n",
       "[1000 rows x 4 columns]"
      ]
     },
     "execution_count": 11,
     "metadata": {},
     "output_type": "execute_result"
    }
   ],
   "source": [
    "ships[ships['labels']==1]"
   ]
  },
  {
   "cell_type": "code",
   "execution_count": null,
   "metadata": {},
   "outputs": [],
   "source": []
  },
  {
   "cell_type": "code",
   "execution_count": null,
   "metadata": {},
   "outputs": [],
   "source": []
  },
  {
   "cell_type": "code",
   "execution_count": null,
   "metadata": {},
   "outputs": [],
   "source": []
  },
  {
   "cell_type": "markdown",
   "metadata": {},
   "source": [
    "Data from list to np array with uint8"
   ]
  },
  {
   "cell_type": "code",
   "execution_count": 12,
   "metadata": {},
   "outputs": [],
   "source": [
    "data = np.array(data1['data']).astype('uint8')\n",
    "labels = np.array(data1['labels']).astype('uint8')\n"
   ]
  },
  {
   "cell_type": "code",
   "execution_count": 13,
   "metadata": {},
   "outputs": [
    {
     "name": "stdout",
     "output_type": "stream",
     "text": [
      "(4000, 19200)\n",
      "(4000,)\n"
     ]
    }
   ],
   "source": [
    "print(data.shape)\n",
    "print(labels.shape)"
   ]
  },
  {
   "cell_type": "code",
   "execution_count": null,
   "metadata": {},
   "outputs": [],
   "source": []
  },
  {
   "cell_type": "code",
   "execution_count": null,
   "metadata": {},
   "outputs": [],
   "source": []
  },
  {
   "cell_type": "markdown",
   "metadata": {},
   "source": [
    "## Normalization\n",
    "\n",
    "https://stats.stackexchange.com/questions/253172/how-should-i-normalise-the-inputs-to-a-neural-network\n",
    "\n",
    "https://www.kaggle.com/yassineghouzam/introduction-to-cnn-keras-0-997-top-6\n",
    "\n",
    "\n",
    "\n",
    "We perform a grayscale normalization to reduce the effect of illumination's differences.\n",
    "\n",
    "Moreover the CNN converg faster on [0..1] data than on [0..255]."
   ]
  },
  {
   "cell_type": "code",
   "execution_count": 14,
   "metadata": {},
   "outputs": [],
   "source": [
    "data = data /255.0"
   ]
  },
  {
   "cell_type": "code",
   "execution_count": null,
   "metadata": {},
   "outputs": [],
   "source": []
  },
  {
   "cell_type": "markdown",
   "metadata": {},
   "source": [
    "## Reshape \n",
    "\n",
    "https://datascience.stackexchange.com/questions/11704/reshaping-of-data-for-deep-learning-using-keras\n",
    "\n",
    "https://keras.io/examples/mnist_cnn/"
   ]
  },
  {
   "cell_type": "code",
   "execution_count": 15,
   "metadata": {},
   "outputs": [
    {
     "data": {
      "text/plain": [
       "(4000, 19200)"
      ]
     },
     "execution_count": 15,
     "metadata": {},
     "output_type": "execute_result"
    }
   ],
   "source": [
    "data.shape"
   ]
  },
  {
   "cell_type": "markdown",
   "metadata": {},
   "source": [
    "https://www.kaggle.com/byrachonok/keras-for-search-ships-in-satellite-image"
   ]
  },
  {
   "cell_type": "code",
   "execution_count": 16,
   "metadata": {},
   "outputs": [
    {
     "name": "stderr",
     "output_type": "stream",
     "text": [
      "Using TensorFlow backend.\n"
     ]
    }
   ],
   "source": [
    "import keras.backend as K"
   ]
  },
  {
   "cell_type": "code",
   "execution_count": 17,
   "metadata": {},
   "outputs": [
    {
     "data": {
      "text/plain": [
       "'channels_last'"
      ]
     },
     "execution_count": 17,
     "metadata": {},
     "output_type": "execute_result"
    }
   ],
   "source": [
    "K.image_data_format()"
   ]
  },
  {
   "cell_type": "code",
   "execution_count": 18,
   "metadata": {},
   "outputs": [
    {
     "data": {
      "text/plain": [
       "(80, 80, 3)"
      ]
     },
     "execution_count": 18,
     "metadata": {},
     "output_type": "execute_result"
    }
   ],
   "source": [
    "n_spectrum = 3 # color chanel (RGB)\n",
    "weight = 80\n",
    "height = 80\n",
    "X = data.reshape([-1, n_spectrum,weight, height]).transpose([0,2,3,1])\n",
    "X[0].shape\n",
    "\n"
   ]
  },
  {
   "cell_type": "markdown",
   "metadata": {},
   "source": [
    "flip each x[i] from [layer][row][col] to [row][col][layer]\n",
    "\n",
    "https://www.kaggle.com/jakelow/finding-ships-in-satellite-images"
   ]
  },
  {
   "cell_type": "code",
   "execution_count": null,
   "metadata": {},
   "outputs": [],
   "source": []
  },
  {
   "cell_type": "code",
   "execution_count": 19,
   "metadata": {},
   "outputs": [
    {
     "data": {
      "text/plain": [
       "(4000, 80, 80, 3)"
      ]
     },
     "execution_count": 19,
     "metadata": {},
     "output_type": "execute_result"
    }
   ],
   "source": [
    "X.shape"
   ]
  },
  {
   "cell_type": "code",
   "execution_count": 20,
   "metadata": {},
   "outputs": [
    {
     "data": {
      "text/plain": [
       "<matplotlib.image.AxesImage at 0x7f5bb5a7f950>"
      ]
     },
     "execution_count": 20,
     "metadata": {},
     "output_type": "execute_result"
    },
    {
     "data": {
      "image/png": "[encoded data removed]",
      "text/plain": [
       "<Figure size 432x288 with 1 Axes>"
      ]
     },
     "metadata": {
      "needs_background": "light"
     },
     "output_type": "display_data"
    }
   ],
   "source": [
    "plt.imshow(X[1])"
   ]
  },
  {
   "cell_type": "code",
   "execution_count": 21,
   "metadata": {},
   "outputs": [
    {
     "data": {
      "text/plain": [
       "(80, 80, 3)"
      ]
     },
     "execution_count": 21,
     "metadata": {},
     "output_type": "execute_result"
    }
   ],
   "source": [
    "X[1].shape"
   ]
  },
  {
   "cell_type": "code",
   "execution_count": null,
   "metadata": {},
   "outputs": [],
   "source": []
  },
  {
   "cell_type": "code",
   "execution_count": 22,
   "metadata": {},
   "outputs": [],
   "source": [
    "from keras.utils.np_utils import to_categorical"
   ]
  },
  {
   "cell_type": "code",
   "execution_count": 23,
   "metadata": {},
   "outputs": [],
   "source": [
    "y= to_categorical(labels,num_classes=2)\n"
   ]
  },
  {
   "cell_type": "code",
   "execution_count": 24,
   "metadata": {},
   "outputs": [
    {
     "data": {
      "text/plain": [
       "array([[0., 1.],\n",
       "       [0., 1.],\n",
       "       [0., 1.],\n",
       "       ...,\n",
       "       [1., 0.],\n",
       "       [1., 0.],\n",
       "       [1., 0.]], dtype=float32)"
      ]
     },
     "execution_count": 24,
     "metadata": {},
     "output_type": "execute_result"
    }
   ],
   "source": [
    "y"
   ]
  },
  {
   "cell_type": "code",
   "execution_count": 27,
   "metadata": {},
   "outputs": [
    {
     "data": {
      "text/plain": [
       "(1000, 80, 80, 3)"
      ]
     },
     "execution_count": 27,
     "metadata": {},
     "output_type": "execute_result"
    }
   ],
   "source": [
    "X[labels==1].shape"
   ]
  },
  {
   "cell_type": "code",
   "execution_count": 31,
   "metadata": {},
   "outputs": [
    {
     "data": {
      "text/plain": [
       "(3000, 80, 80, 3)"
      ]
     },
     "execution_count": 31,
     "metadata": {},
     "output_type": "execute_result"
    }
   ],
   "source": [
    "X[labels==0].shape"
   ]
  },
  {
   "cell_type": "code",
   "execution_count": 28,
   "metadata": {},
   "outputs": [
    {
     "data": {
      "text/plain": [
       "<matplotlib.image.AxesImage at 0x7f5bb599b590>"
      ]
     },
     "execution_count": 28,
     "metadata": {},
     "output_type": "execute_result"
    },
    {
     "data": {
      "image/png": "[encoded data removed]",
      "text/plain": [
       "<Figure size 432x288 with 1 Axes>"
      ]
     },
     "metadata": {
      "needs_background": "light"
     },
     "output_type": "display_data"
    }
   ],
   "source": [
    "plt.imshow(X[labels==1][0])\n",
    "plt.title('With ship')"
   ]
  },
  {
   "cell_type": "code",
   "execution_count": 30,
   "metadata": {},
   "outputs": [
    {
     "data": {
      "text/plain": [
       "Text(0.5, 1.0, 'Without ship')"
      ]
     },
     "execution_count": 30,
     "metadata": {},
     "output_type": "execute_result"
    },
    {
     "data": {
      "image/png": "[encoded data removed]",
      "text/plain": [
       "<Figure size 432x288 with 1 Axes>"
      ]
     },
     "metadata": {
      "needs_background": "light"
     },
     "output_type": "display_data"
    }
   ],
   "source": [
    "plt.imshow(X[labels==0][0])\n",
    "plt.title('Without ship')"
   ]
  },
  {
   "cell_type": "code",
   "execution_count": null,
   "metadata": {},
   "outputs": [],
   "source": []
  },
  {
   "cell_type": "markdown",
   "metadata": {},
   "source": [
    "## train test split\n"
   ]
  },
  {
   "cell_type": "code",
   "execution_count": 32,
   "metadata": {},
   "outputs": [],
   "source": [
    "from sklearn.model_selection import train_test_split"
   ]
  },
  {
   "cell_type": "code",
   "execution_count": 33,
   "metadata": {},
   "outputs": [],
   "source": [
    "X_train,X_test,y_train,y_test = train_test_split(X,y,test_size=0.1)"
   ]
  },
  {
   "cell_type": "code",
   "execution_count": 34,
   "metadata": {},
   "outputs": [
    {
     "data": {
      "text/plain": [
       "(3600, 80, 80, 3)"
      ]
     },
     "execution_count": 34,
     "metadata": {},
     "output_type": "execute_result"
    }
   ],
   "source": [
    "X_train.shape"
   ]
  },
  {
   "cell_type": "code",
   "execution_count": 35,
   "metadata": {},
   "outputs": [
    {
     "data": {
      "text/plain": [
       "(400, 80, 80, 3)"
      ]
     },
     "execution_count": 35,
     "metadata": {},
     "output_type": "execute_result"
    }
   ],
   "source": [
    "X_test.shape"
   ]
  },
  {
   "cell_type": "code",
   "execution_count": null,
   "metadata": {},
   "outputs": [],
   "source": []
  },
  {
   "cell_type": "markdown",
   "metadata": {},
   "source": [
    "## Model"
   ]
  },
  {
   "cell_type": "code",
   "execution_count": 36,
   "metadata": {},
   "outputs": [],
   "source": [
    "import keras\n",
    "from keras.models import Sequential\n",
    "from keras.layers import Conv2D,MaxPooling2D\n",
    "from keras.layers import Flatten\n",
    "from keras.layers import Dense\n"
   ]
  },
  {
   "cell_type": "markdown",
   "metadata": {},
   "source": [
    "\n"
   ]
  },
  {
   "cell_type": "code",
   "execution_count": 43,
   "metadata": {},
   "outputs": [],
   "source": [
    "model = Sequential()\n",
    "model.add(Conv2D(filters = 32, kernel_size= (3,3),activation='relu',input_shape=(80,80,3)))\n",
    "model.add(Conv2D(filters = 32, kernel_size= (3,3),activation='relu'))\n",
    "model.add(MaxPooling2D(pool_size=(2,2)))\n",
    "model.add(Flatten())\n",
    "\n",
    "model.add(Dense(128,activation='relu'))\n",
    "model.add(Dense(2,activation='softmax'))\n"
   ]
  },
  {
   "cell_type": "code",
   "execution_count": 44,
   "metadata": {},
   "outputs": [],
   "source": [
    "model.compile(loss='categorical_crossentropy',\n",
    "              optimizer='rmsprop',\n",
    "              metrics=['accuracy'])\n"
   ]
  },
  {
   "cell_type": "code",
   "execution_count": 45,
   "metadata": {
    "scrolled": false
   },
   "outputs": [
    {
     "name": "stdout",
     "output_type": "stream",
     "text": [
      "Train on 3600 samples, validate on 400 samples\n",
      "Epoch 1/1\n",
      "3600/3600 [==============================] - 48s 13ms/step - loss: 1.3283 - accuracy: 0.7683 - val_loss: 0.4119 - val_accuracy: 0.8325\n",
      "Test loss: 0.41189538955688476\n",
      "Test accuracy: 0.8324999809265137\n"
     ]
    }
   ],
   "source": [
    "model.fit(X_train, y_train,\n",
    "          batch_size=128,\n",
    "          epochs=1,\n",
    "          verbose=1,\n",
    "          validation_data=(X_test, y_test))\n",
    "score = model.evaluate(X_test, y_test, verbose=0)\n",
    "print('Test loss:', score[0])\n",
    "print('Test accuracy:', score[1])"
   ]
  },
  {
   "cell_type": "code",
   "execution_count": null,
   "metadata": {},
   "outputs": [],
   "source": []
  },
  {
   "cell_type": "markdown",
   "metadata": {},
   "source": [
    "## Adding more layers\n",
    "\n",
    "The number of filters is increased to increase the depth of the feature space thus helping in learning more levels of global abstract structures. \n",
    "\n",
    "By convention the number of channels generally increase or stay the same while we progress through layers in our convolutional neural net architecture"
   ]
  },
  {
   "cell_type": "code",
   "execution_count": 46,
   "metadata": {},
   "outputs": [],
   "source": [
    "K.clear_session()\n",
    "model = Sequential()\n",
    "model.add(Conv2D(filters = 32, kernel_size= (3,3),activation='relu',input_shape=(80,80,3)))\n",
    "model.add(Conv2D(filters = 32, kernel_size= (3,3),activation='relu'))\n",
    "model.add(MaxPooling2D(pool_size=(2,2)))\n",
    "\n",
    "model.add(Conv2D(filters = 64, kernel_size = (3,3),activation ='relu'))\n",
    "model.add(Conv2D(filters = 64, kernel_size = (3,3),activation ='relu'))\n",
    "model.add(MaxPooling2D(pool_size=(2,2)))\n",
    "          \n",
    "model.add(Flatten())\n",
    "\n",
    "model.add(Dense(128,activation='relu'))\n",
    "model.add(Dense(2,activation='softmax'))\n"
   ]
  },
  {
   "cell_type": "code",
   "execution_count": 47,
   "metadata": {},
   "outputs": [],
   "source": [
    "model.compile(loss='categorical_crossentropy',\n",
    "              optimizer='rmsprop',\n",
    "              metrics=['accuracy'])\n"
   ]
  },
  {
   "cell_type": "code",
   "execution_count": 48,
   "metadata": {
    "scrolled": true
   },
   "outputs": [
    {
     "name": "stdout",
     "output_type": "stream",
     "text": [
      "Train on 3600 samples, validate on 400 samples\n",
      "Epoch 1/1\n",
      "3600/3600 [==============================] - 73s 20ms/step - loss: 0.7819 - accuracy: 0.7542 - val_loss: 0.2590 - val_accuracy: 0.9000\n",
      "Test loss: 0.25895803451538085\n",
      "Test accuracy: 0.8999999761581421\n"
     ]
    }
   ],
   "source": [
    "model.fit(X_train, y_train,\n",
    "          batch_size=128,\n",
    "          epochs=1,\n",
    "          verbose=1,\n",
    "          validation_data=(X_test, y_test))\n",
    "score = model.evaluate(X_test, y_test, verbose=0)\n",
    "print('Test loss:', score[0])\n",
    "print('Test accuracy:', score[1])"
   ]
  },
  {
   "cell_type": "code",
   "execution_count": null,
   "metadata": {},
   "outputs": [],
   "source": []
  },
  {
   "cell_type": "markdown",
   "metadata": {},
   "source": [
    "## Dropout"
   ]
  },
  {
   "cell_type": "code",
   "execution_count": 49,
   "metadata": {},
   "outputs": [],
   "source": [
    "from keras.layers import Dropout"
   ]
  },
  {
   "cell_type": "code",
   "execution_count": 50,
   "metadata": {},
   "outputs": [],
   "source": [
    "K.clear_session()\n",
    "model = Sequential()\n",
    "model.add(Conv2D(filters = 32, kernel_size= (3,3),activation='relu',input_shape=(80,80,3)))\n",
    "model.add(Conv2D(filters = 32, kernel_size= (3,3),activation='relu'))\n",
    "model.add(MaxPooling2D(pool_size=(2,2)))\n",
    "model.add(Dropout(0.25))\n",
    "\n",
    "model.add(Conv2D(filters = 64, kernel_size = (3,3),activation ='relu'))\n",
    "model.add(Conv2D(filters = 64, kernel_size = (3,3),activation ='relu'))\n",
    "model.add(MaxPooling2D(pool_size=(2,2)))\n",
    "model.add(Dropout(0.25)) \n",
    "\n",
    "model.add(Flatten())\n",
    "\n",
    "model.add(Dense(128,activation='relu'))\n",
    "model.add(Dropout(0.25)) \n",
    "\n",
    "model.add(Dense(2,activation='softmax'))\n"
   ]
  },
  {
   "cell_type": "code",
   "execution_count": 51,
   "metadata": {},
   "outputs": [],
   "source": [
    "model.compile(loss='categorical_crossentropy',\n",
    "              optimizer='rmsprop',\n",
    "              metrics=['accuracy'])\n"
   ]
  },
  {
   "cell_type": "code",
   "execution_count": 52,
   "metadata": {},
   "outputs": [
    {
     "name": "stdout",
     "output_type": "stream",
     "text": [
      "Train on 3600 samples, validate on 400 samples\n",
      "Epoch 1/10\n",
      "3600/3600 [==============================] - 79s 22ms/step - loss: 0.7218 - accuracy: 0.7503 - val_loss: 0.5495 - val_accuracy: 0.8725\n",
      "Epoch 2/10\n",
      "3600/3600 [==============================] - 80s 22ms/step - loss: 0.4007 - accuracy: 0.8453 - val_loss: 0.3062 - val_accuracy: 0.8575\n",
      "Epoch 3/10\n",
      "3600/3600 [==============================] - 79s 22ms/step - loss: 0.2941 - accuracy: 0.8864 - val_loss: 0.2738 - val_accuracy: 0.8850\n",
      "Epoch 4/10\n",
      "3600/3600 [==============================] - 78s 22ms/step - loss: 0.2468 - accuracy: 0.9003 - val_loss: 0.1909 - val_accuracy: 0.9200\n",
      "Epoch 5/10\n",
      "3600/3600 [==============================] - 78s 22ms/step - loss: 0.2347 - accuracy: 0.9053 - val_loss: 0.1821 - val_accuracy: 0.9150\n",
      "Epoch 6/10\n",
      "3600/3600 [==============================] - 79s 22ms/step - loss: 0.1761 - accuracy: 0.9289 - val_loss: 0.2231 - val_accuracy: 0.9350\n",
      "Epoch 7/10\n",
      "3600/3600 [==============================] - 77s 21ms/step - loss: 0.1668 - accuracy: 0.9411 - val_loss: 0.5091 - val_accuracy: 0.9050\n",
      "Epoch 8/10\n",
      "3600/3600 [==============================] - 79s 22ms/step - loss: 0.1448 - accuracy: 0.9469 - val_loss: 0.1735 - val_accuracy: 0.9500\n",
      "Epoch 9/10\n",
      "3600/3600 [==============================] - 79s 22ms/step - loss: 0.1096 - accuracy: 0.9608 - val_loss: 0.1208 - val_accuracy: 0.9550\n",
      "Epoch 10/10\n",
      "3600/3600 [==============================] - 79s 22ms/step - loss: 0.0774 - accuracy: 0.9678 - val_loss: 0.3277 - val_accuracy: 0.9050\n",
      "Test loss: 0.32772827029228213\n",
      "Test accuracy: 0.9049999713897705\n"
     ]
    }
   ],
   "source": [
    "model.fit(X_train, y_train,\n",
    "          batch_size=128,\n",
    "          epochs=10,\n",
    "          verbose=1,\n",
    "          validation_data=(X_test, y_test))\n",
    "score = model.evaluate(X_test, y_test, verbose=0)\n",
    "print('Test loss:', score[0])\n",
    "print('Test accuracy:', score[1])"
   ]
  },
  {
   "cell_type": "code",
   "execution_count": 53,
   "metadata": {},
   "outputs": [
    {
     "name": "stdout",
     "output_type": "stream",
     "text": [
      "Test loss: 0.32772827029228213\n",
      "Test accuracy: 0.9049999713897705\n"
     ]
    }
   ],
   "source": [
    "print('Test loss:', score[0])\n",
    "print('Test accuracy:', score[1])"
   ]
  },
  {
   "cell_type": "code",
   "execution_count": 54,
   "metadata": {},
   "outputs": [],
   "source": [
    "model_vals = pd.DataFrame(model.history.history)"
   ]
  },
  {
   "cell_type": "code",
   "execution_count": 55,
   "metadata": {},
   "outputs": [
    {
     "data": {
      "text/html": [
       "<div>\n",
       "<style scoped>\n",
       "    .dataframe tbody tr th:only-of-type {\n",
       "        vertical-align: middle;\n",
       "    }\n",
       "\n",
       "    .dataframe tbody tr th {\n",
       "        vertical-align: top;\n",
       "    }\n",
       "\n",
       "    .dataframe thead th {\n",
       "        text-align: right;\n",
       "    }\n",
       "</style>\n",
       "<table border=\"1\" class=\"dataframe\">\n",
       "  <thead>\n",
       "    <tr style=\"text-align: right;\">\n",
       "      <th></th>\n",
       "      <th>val_loss</th>\n",
       "      <th>val_accuracy</th>\n",
       "      <th>loss</th>\n",
       "      <th>accuracy</th>\n",
       "    </tr>\n",
       "  </thead>\n",
       "  <tbody>\n",
       "    <tr>\n",
       "      <th>0</th>\n",
       "      <td>0.549470</td>\n",
       "      <td>0.8725</td>\n",
       "      <td>0.721756</td>\n",
       "      <td>0.750278</td>\n",
       "    </tr>\n",
       "    <tr>\n",
       "      <th>1</th>\n",
       "      <td>0.306165</td>\n",
       "      <td>0.8575</td>\n",
       "      <td>0.400733</td>\n",
       "      <td>0.845278</td>\n",
       "    </tr>\n",
       "    <tr>\n",
       "      <th>2</th>\n",
       "      <td>0.273838</td>\n",
       "      <td>0.8850</td>\n",
       "      <td>0.294138</td>\n",
       "      <td>0.886389</td>\n",
       "    </tr>\n",
       "    <tr>\n",
       "      <th>3</th>\n",
       "      <td>0.190917</td>\n",
       "      <td>0.9200</td>\n",
       "      <td>0.246834</td>\n",
       "      <td>0.900278</td>\n",
       "    </tr>\n",
       "    <tr>\n",
       "      <th>4</th>\n",
       "      <td>0.182063</td>\n",
       "      <td>0.9150</td>\n",
       "      <td>0.234706</td>\n",
       "      <td>0.905278</td>\n",
       "    </tr>\n",
       "    <tr>\n",
       "      <th>5</th>\n",
       "      <td>0.223117</td>\n",
       "      <td>0.9350</td>\n",
       "      <td>0.176115</td>\n",
       "      <td>0.928889</td>\n",
       "    </tr>\n",
       "    <tr>\n",
       "      <th>6</th>\n",
       "      <td>0.509082</td>\n",
       "      <td>0.9050</td>\n",
       "      <td>0.166847</td>\n",
       "      <td>0.941111</td>\n",
       "    </tr>\n",
       "    <tr>\n",
       "      <th>7</th>\n",
       "      <td>0.173486</td>\n",
       "      <td>0.9500</td>\n",
       "      <td>0.144774</td>\n",
       "      <td>0.946944</td>\n",
       "    </tr>\n",
       "    <tr>\n",
       "      <th>8</th>\n",
       "      <td>0.120765</td>\n",
       "      <td>0.9550</td>\n",
       "      <td>0.109590</td>\n",
       "      <td>0.960833</td>\n",
       "    </tr>\n",
       "    <tr>\n",
       "      <th>9</th>\n",
       "      <td>0.327728</td>\n",
       "      <td>0.9050</td>\n",
       "      <td>0.077362</td>\n",
       "      <td>0.967778</td>\n",
       "    </tr>\n",
       "  </tbody>\n",
       "</table>\n",
       "</div>"
      ],
      "text/plain": [
       "   val_loss  val_accuracy      loss  accuracy\n",
       "0  0.549470        0.8725  0.721756  0.750278\n",
       "1  0.306165        0.8575  0.400733  0.845278\n",
       "2  0.273838        0.8850  0.294138  0.886389\n",
       "3  0.190917        0.9200  0.246834  0.900278\n",
       "4  0.182063        0.9150  0.234706  0.905278\n",
       "5  0.223117        0.9350  0.176115  0.928889\n",
       "6  0.509082        0.9050  0.166847  0.941111\n",
       "7  0.173486        0.9500  0.144774  0.946944\n",
       "8  0.120765        0.9550  0.109590  0.960833\n",
       "9  0.327728        0.9050  0.077362  0.967778"
      ]
     },
     "execution_count": 55,
     "metadata": {},
     "output_type": "execute_result"
    }
   ],
   "source": [
    "model_vals"
   ]
  },
  {
   "cell_type": "code",
   "execution_count": 56,
   "metadata": {
    "scrolled": true
   },
   "outputs": [
    {
     "data": {
      "text/plain": [
       "<matplotlib.legend.Legend at 0x7f5b87ed8190>"
      ]
     },
     "execution_count": 56,
     "metadata": {},
     "output_type": "execute_result"
    },
    {
     "data": {
      "image/png": "[encoded data removed]",
      "text/plain": [
       "<Figure size 432x288 with 1 Axes>"
      ]
     },
     "metadata": {
      "needs_background": "light"
     },
     "output_type": "display_data"
    }
   ],
   "source": [
    "plt.plot(model_vals['val_loss'],label='val_loss')\n",
    "plt.plot(model_vals['loss'],label='loss')\n",
    "plt.legend()"
   ]
  },
  {
   "cell_type": "code",
   "execution_count": null,
   "metadata": {},
   "outputs": [],
   "source": []
  },
  {
   "cell_type": "markdown",
   "metadata": {},
   "source": [
    "## Early stopping"
   ]
  },
  {
   "cell_type": "code",
   "execution_count": 60,
   "metadata": {},
   "outputs": [],
   "source": [
    "from keras.callbacks import EarlyStopping"
   ]
  },
  {
   "cell_type": "code",
   "execution_count": 63,
   "metadata": {},
   "outputs": [],
   "source": [
    "K.clear_session()\n",
    "model = Sequential()\n",
    "model.add(Conv2D(filters = 32, kernel_size= (3,3),activation='relu',input_shape=(80,80,3)))\n",
    "model.add(Conv2D(filters = 32, kernel_size= (3,3),activation='relu'))\n",
    "model.add(MaxPooling2D(pool_size=(2,2)))\n",
    "model.add(Dropout(0.25))\n",
    "\n",
    "model.add(Conv2D(filters = 64, kernel_size = (3,3),activation ='relu'))\n",
    "model.add(Conv2D(filters = 64, kernel_size = (3,3),activation ='relu'))\n",
    "model.add(MaxPooling2D(pool_size=(2,2)))\n",
    "model.add(Dropout(0.25)) \n",
    "\n",
    "model.add(Flatten())\n",
    "\n",
    "model.add(Dense(128,activation='relu'))\n",
    "model.add(Dropout(0.25)) \n",
    "\n",
    "model.add(Dense(2,activation='softmax'))\n"
   ]
  },
  {
   "cell_type": "code",
   "execution_count": 64,
   "metadata": {},
   "outputs": [],
   "source": [
    "model.compile(loss='categorical_crossentropy',\n",
    "              optimizer='rmsprop',\n",
    "              metrics=['accuracy'])\n"
   ]
  },
  {
   "cell_type": "code",
   "execution_count": 65,
   "metadata": {},
   "outputs": [],
   "source": [
    "early_stop = EarlyStopping(monitor='val_loss',mode ='min',verbose=1,patience=25)"
   ]
  },
  {
   "cell_type": "code",
   "execution_count": 66,
   "metadata": {},
   "outputs": [
    {
     "name": "stdout",
     "output_type": "stream",
     "text": [
      "Train on 3600 samples, validate on 400 samples\n",
      "Epoch 1/20\n",
      "3600/3600 [==============================] - 82s 23ms/step - loss: 0.7084 - accuracy: 0.7519 - val_loss: 0.7025 - val_accuracy: 0.7975\n",
      "Epoch 2/20\n",
      "3600/3600 [==============================] - 75s 21ms/step - loss: 0.4426 - accuracy: 0.8328 - val_loss: 0.2719 - val_accuracy: 0.8800\n",
      "Epoch 3/20\n",
      "3600/3600 [==============================] - 85s 24ms/step - loss: 0.3639 - accuracy: 0.8639 - val_loss: 0.2514 - val_accuracy: 0.9025\n",
      "Epoch 4/20\n",
      "3600/3600 [==============================] - 85s 24ms/step - loss: 0.2572 - accuracy: 0.8939 - val_loss: 0.2262 - val_accuracy: 0.9125\n",
      "Epoch 5/20\n",
      "3600/3600 [==============================] - 84s 23ms/step - loss: 0.2281 - accuracy: 0.9031 - val_loss: 0.2232 - val_accuracy: 0.8900\n",
      "Epoch 6/20\n",
      "3600/3600 [==============================] - 85s 24ms/step - loss: 0.1878 - accuracy: 0.9242 - val_loss: 0.2838 - val_accuracy: 0.9150\n",
      "Epoch 7/20\n",
      "3600/3600 [==============================] - 80s 22ms/step - loss: 0.1570 - accuracy: 0.9414 - val_loss: 0.1245 - val_accuracy: 0.9575\n",
      "Epoch 8/20\n",
      "3600/3600 [==============================] - 83s 23ms/step - loss: 0.1112 - accuracy: 0.9597 - val_loss: 0.1362 - val_accuracy: 0.9625\n",
      "Epoch 9/20\n",
      "3600/3600 [==============================] - 80s 22ms/step - loss: 0.0949 - accuracy: 0.9669 - val_loss: 0.1714 - val_accuracy: 0.9525\n",
      "Epoch 10/20\n",
      "3600/3600 [==============================] - 74s 20ms/step - loss: 0.0739 - accuracy: 0.9756 - val_loss: 0.3610 - val_accuracy: 0.8900\n",
      "Epoch 11/20\n",
      "3600/3600 [==============================] - 77s 21ms/step - loss: 0.0553 - accuracy: 0.9806 - val_loss: 0.1165 - val_accuracy: 0.9675\n",
      "Epoch 12/20\n",
      "3600/3600 [==============================] - 85s 24ms/step - loss: 0.0912 - accuracy: 0.9725 - val_loss: 0.0678 - val_accuracy: 0.9875\n",
      "Epoch 13/20\n",
      "3600/3600 [==============================] - 83s 23ms/step - loss: 0.0482 - accuracy: 0.9833 - val_loss: 0.2699 - val_accuracy: 0.9400\n",
      "Epoch 14/20\n",
      "3600/3600 [==============================] - 85s 24ms/step - loss: 0.0520 - accuracy: 0.9853 - val_loss: 0.1984 - val_accuracy: 0.9600\n",
      "Epoch 15/20\n",
      "3600/3600 [==============================] - 83s 23ms/step - loss: 0.0918 - accuracy: 0.9814 - val_loss: 0.0794 - val_accuracy: 0.9900\n",
      "Epoch 16/20\n",
      "3600/3600 [==============================] - 80s 22ms/step - loss: 0.0269 - accuracy: 0.9914 - val_loss: 0.1115 - val_accuracy: 0.9825\n",
      "Epoch 17/20\n",
      "3600/3600 [==============================] - 83s 23ms/step - loss: 0.0365 - accuracy: 0.9886 - val_loss: 0.1733 - val_accuracy: 0.9850\n",
      "Epoch 18/20\n",
      "3600/3600 [==============================] - 82s 23ms/step - loss: 0.0250 - accuracy: 0.9922 - val_loss: 0.1175 - val_accuracy: 0.9875\n",
      "Epoch 19/20\n",
      "3600/3600 [==============================] - 82s 23ms/step - loss: 0.0869 - accuracy: 0.9814 - val_loss: 0.1132 - val_accuracy: 0.9825\n",
      "Epoch 20/20\n",
      "3600/3600 [==============================] - 78s 22ms/step - loss: 0.0085 - accuracy: 0.9969 - val_loss: 0.1108 - val_accuracy: 0.9875\n",
      "Test loss: 0.11075300605269149\n",
      "Test accuracy: 0.987500011920929\n"
     ]
    }
   ],
   "source": [
    "model.fit(X_train, y_train,\n",
    "          batch_size=128,\n",
    "          epochs=20,\n",
    "          verbose=1,\n",
    "          validation_data=(X_test, y_test), callbacks=[early_stop])\n",
    "score = model.evaluate(X_test, y_test, verbose=0)\n",
    "print('Test loss:', score[0])\n",
    "print('Test accuracy:', score[1])"
   ]
  },
  {
   "cell_type": "code",
   "execution_count": 67,
   "metadata": {},
   "outputs": [],
   "source": [
    "model_vals = pd.DataFrame(model.history.history)"
   ]
  },
  {
   "cell_type": "code",
   "execution_count": 68,
   "metadata": {},
   "outputs": [
    {
     "data": {
      "text/html": [
       "<div>\n",
       "<style scoped>\n",
       "    .dataframe tbody tr th:only-of-type {\n",
       "        vertical-align: middle;\n",
       "    }\n",
       "\n",
       "    .dataframe tbody tr th {\n",
       "        vertical-align: top;\n",
       "    }\n",
       "\n",
       "    .dataframe thead th {\n",
       "        text-align: right;\n",
       "    }\n",
       "</style>\n",
       "<table border=\"1\" class=\"dataframe\">\n",
       "  <thead>\n",
       "    <tr style=\"text-align: right;\">\n",
       "      <th></th>\n",
       "      <th>val_loss</th>\n",
       "      <th>val_accuracy</th>\n",
       "      <th>loss</th>\n",
       "      <th>accuracy</th>\n",
       "    </tr>\n",
       "  </thead>\n",
       "  <tbody>\n",
       "    <tr>\n",
       "      <th>0</th>\n",
       "      <td>0.702525</td>\n",
       "      <td>0.7975</td>\n",
       "      <td>0.708371</td>\n",
       "      <td>0.751944</td>\n",
       "    </tr>\n",
       "    <tr>\n",
       "      <th>1</th>\n",
       "      <td>0.271880</td>\n",
       "      <td>0.8800</td>\n",
       "      <td>0.442577</td>\n",
       "      <td>0.832778</td>\n",
       "    </tr>\n",
       "    <tr>\n",
       "      <th>2</th>\n",
       "      <td>0.251432</td>\n",
       "      <td>0.9025</td>\n",
       "      <td>0.363904</td>\n",
       "      <td>0.863889</td>\n",
       "    </tr>\n",
       "    <tr>\n",
       "      <th>3</th>\n",
       "      <td>0.226151</td>\n",
       "      <td>0.9125</td>\n",
       "      <td>0.257199</td>\n",
       "      <td>0.893889</td>\n",
       "    </tr>\n",
       "    <tr>\n",
       "      <th>4</th>\n",
       "      <td>0.223226</td>\n",
       "      <td>0.8900</td>\n",
       "      <td>0.228143</td>\n",
       "      <td>0.903056</td>\n",
       "    </tr>\n",
       "    <tr>\n",
       "      <th>5</th>\n",
       "      <td>0.283814</td>\n",
       "      <td>0.9150</td>\n",
       "      <td>0.187786</td>\n",
       "      <td>0.924167</td>\n",
       "    </tr>\n",
       "    <tr>\n",
       "      <th>6</th>\n",
       "      <td>0.124523</td>\n",
       "      <td>0.9575</td>\n",
       "      <td>0.156978</td>\n",
       "      <td>0.941389</td>\n",
       "    </tr>\n",
       "    <tr>\n",
       "      <th>7</th>\n",
       "      <td>0.136242</td>\n",
       "      <td>0.9625</td>\n",
       "      <td>0.111156</td>\n",
       "      <td>0.959722</td>\n",
       "    </tr>\n",
       "    <tr>\n",
       "      <th>8</th>\n",
       "      <td>0.171369</td>\n",
       "      <td>0.9525</td>\n",
       "      <td>0.094879</td>\n",
       "      <td>0.966944</td>\n",
       "    </tr>\n",
       "    <tr>\n",
       "      <th>9</th>\n",
       "      <td>0.360955</td>\n",
       "      <td>0.8900</td>\n",
       "      <td>0.073873</td>\n",
       "      <td>0.975556</td>\n",
       "    </tr>\n",
       "    <tr>\n",
       "      <th>10</th>\n",
       "      <td>0.116491</td>\n",
       "      <td>0.9675</td>\n",
       "      <td>0.055330</td>\n",
       "      <td>0.980556</td>\n",
       "    </tr>\n",
       "    <tr>\n",
       "      <th>11</th>\n",
       "      <td>0.067841</td>\n",
       "      <td>0.9875</td>\n",
       "      <td>0.091215</td>\n",
       "      <td>0.972500</td>\n",
       "    </tr>\n",
       "    <tr>\n",
       "      <th>12</th>\n",
       "      <td>0.269874</td>\n",
       "      <td>0.9400</td>\n",
       "      <td>0.048169</td>\n",
       "      <td>0.983333</td>\n",
       "    </tr>\n",
       "    <tr>\n",
       "      <th>13</th>\n",
       "      <td>0.198433</td>\n",
       "      <td>0.9600</td>\n",
       "      <td>0.052001</td>\n",
       "      <td>0.985278</td>\n",
       "    </tr>\n",
       "    <tr>\n",
       "      <th>14</th>\n",
       "      <td>0.079401</td>\n",
       "      <td>0.9900</td>\n",
       "      <td>0.091790</td>\n",
       "      <td>0.981389</td>\n",
       "    </tr>\n",
       "    <tr>\n",
       "      <th>15</th>\n",
       "      <td>0.111549</td>\n",
       "      <td>0.9825</td>\n",
       "      <td>0.026869</td>\n",
       "      <td>0.991389</td>\n",
       "    </tr>\n",
       "    <tr>\n",
       "      <th>16</th>\n",
       "      <td>0.173265</td>\n",
       "      <td>0.9850</td>\n",
       "      <td>0.036548</td>\n",
       "      <td>0.988611</td>\n",
       "    </tr>\n",
       "    <tr>\n",
       "      <th>17</th>\n",
       "      <td>0.117463</td>\n",
       "      <td>0.9875</td>\n",
       "      <td>0.024971</td>\n",
       "      <td>0.992222</td>\n",
       "    </tr>\n",
       "    <tr>\n",
       "      <th>18</th>\n",
       "      <td>0.113190</td>\n",
       "      <td>0.9825</td>\n",
       "      <td>0.086897</td>\n",
       "      <td>0.981389</td>\n",
       "    </tr>\n",
       "    <tr>\n",
       "      <th>19</th>\n",
       "      <td>0.110753</td>\n",
       "      <td>0.9875</td>\n",
       "      <td>0.008498</td>\n",
       "      <td>0.996944</td>\n",
       "    </tr>\n",
       "  </tbody>\n",
       "</table>\n",
       "</div>"
      ],
      "text/plain": [
       "    val_loss  val_accuracy      loss  accuracy\n",
       "0   0.702525        0.7975  0.708371  0.751944\n",
       "1   0.271880        0.8800  0.442577  0.832778\n",
       "2   0.251432        0.9025  0.363904  0.863889\n",
       "3   0.226151        0.9125  0.257199  0.893889\n",
       "4   0.223226        0.8900  0.228143  0.903056\n",
       "5   0.283814        0.9150  0.187786  0.924167\n",
       "6   0.124523        0.9575  0.156978  0.941389\n",
       "7   0.136242        0.9625  0.111156  0.959722\n",
       "8   0.171369        0.9525  0.094879  0.966944\n",
       "9   0.360955        0.8900  0.073873  0.975556\n",
       "10  0.116491        0.9675  0.055330  0.980556\n",
       "11  0.067841        0.9875  0.091215  0.972500\n",
       "12  0.269874        0.9400  0.048169  0.983333\n",
       "13  0.198433        0.9600  0.052001  0.985278\n",
       "14  0.079401        0.9900  0.091790  0.981389\n",
       "15  0.111549        0.9825  0.026869  0.991389\n",
       "16  0.173265        0.9850  0.036548  0.988611\n",
       "17  0.117463        0.9875  0.024971  0.992222\n",
       "18  0.113190        0.9825  0.086897  0.981389\n",
       "19  0.110753        0.9875  0.008498  0.996944"
      ]
     },
     "execution_count": 68,
     "metadata": {},
     "output_type": "execute_result"
    }
   ],
   "source": [
    "model_vals\n"
   ]
  },
  {
   "cell_type": "code",
   "execution_count": 69,
   "metadata": {
    "scrolled": true
   },
   "outputs": [
    {
     "data": {
      "text/plain": [
       "<matplotlib.legend.Legend at 0x7f5af5f39210>"
      ]
     },
     "execution_count": 69,
     "metadata": {},
     "output_type": "execute_result"
    },
    {
     "data": {
      "image/png": "[encoded data removed]",
      "text/plain": [
       "<Figure size 432x288 with 1 Axes>"
      ]
     },
     "metadata": {
      "needs_background": "light"
     },
     "output_type": "display_data"
    }
   ],
   "source": [
    "plt.plot(model_vals['val_loss'],label='val_loss')\n",
    "plt.plot(model_vals['loss'],label='loss')\n",
    "plt.legend()"
   ]
  },
  {
   "cell_type": "code",
   "execution_count": null,
   "metadata": {},
   "outputs": [],
   "source": []
  },
  {
   "cell_type": "markdown",
   "metadata": {},
   "source": [
    "## Batch normalization"
   ]
  },
  {
   "cell_type": "code",
   "execution_count": 107,
   "metadata": {},
   "outputs": [],
   "source": [
    "from keras.layers import BatchNormalization\n",
    "\n"
   ]
  },
  {
   "cell_type": "code",
   "execution_count": 70,
   "metadata": {},
   "outputs": [],
   "source": [
    "## Batch normalization\n",
    "\n",
    "from keras.layers import BatchNormalization\n",
    "\n",
    "\n",
    "\n",
    "K.clear_session()\n",
    "model = Sequential()\n",
    "model.add(Conv2D(filters = 32, kernel_size= (3,3),activation='relu',input_shape=(80,80,3)))\n",
    "model.add(Conv2D(filters = 32, kernel_size= (3,3),activation='relu'))\n",
    "model.add(MaxPooling2D(pool_size=(2,2)))\n",
    "model.add(BatchNormalization())\n",
    "model.add(Dropout(0.25))\n",
    "\n",
    "model.add(Conv2D(filters = 64, kernel_size = (3,3),activation ='relu'))\n",
    "model.add(Conv2D(filters = 64, kernel_size = (3,3),activation ='relu'))\n",
    "model.add(MaxPooling2D(pool_size=(2,2)))\n",
    "model.add(BatchNormalization())\n",
    "model.add(Dropout(0.25)) \n",
    "\n",
    "model.add(Flatten())\n",
    "\n",
    "model.add(Dense(128,activation='relu'))\n",
    "model.add(BatchNormalization())\n",
    "model.add(Dropout(0.25)) \n",
    "\n",
    "model.add(Dense(2,activation='softmax'))\n"
   ]
  },
  {
   "cell_type": "code",
   "execution_count": 71,
   "metadata": {},
   "outputs": [],
   "source": [
    "model.compile(loss='categorical_crossentropy',\n",
    "              optimizer='rmsprop',\n",
    "              metrics=['accuracy'])\n"
   ]
  },
  {
   "cell_type": "code",
   "execution_count": 72,
   "metadata": {},
   "outputs": [],
   "source": [
    "early_stop = EarlyStopping(monitor='val_loss',mode ='min',verbose=1,patience=25)"
   ]
  },
  {
   "cell_type": "code",
   "execution_count": 73,
   "metadata": {
    "scrolled": true
   },
   "outputs": [
    {
     "name": "stdout",
     "output_type": "stream",
     "text": [
      "Train on 3600 samples, validate on 400 samples\n",
      "Epoch 1/15\n",
      "3600/3600 [==============================] - 93s 26ms/step - loss: 0.4758 - accuracy: 0.8356 - val_loss: 0.4645 - val_accuracy: 0.7575\n",
      "Epoch 2/15\n",
      "3600/3600 [==============================] - 87s 24ms/step - loss: 0.1919 - accuracy: 0.9328 - val_loss: 0.7854 - val_accuracy: 0.7325\n",
      "Epoch 3/15\n",
      "3600/3600 [==============================] - 86s 24ms/step - loss: 0.1189 - accuracy: 0.9617 - val_loss: 0.5756 - val_accuracy: 0.7325\n",
      "Epoch 4/15\n",
      "3600/3600 [==============================] - 88s 24ms/step - loss: 0.0738 - accuracy: 0.9781 - val_loss: 0.7927 - val_accuracy: 0.7325\n",
      "Epoch 5/15\n",
      "3600/3600 [==============================] - 90s 25ms/step - loss: 0.0386 - accuracy: 0.9908 - val_loss: 0.9146 - val_accuracy: 0.7325\n",
      "Epoch 6/15\n",
      "3600/3600 [==============================] - 88s 24ms/step - loss: 0.0240 - accuracy: 0.9922 - val_loss: 1.5599 - val_accuracy: 0.7325\n",
      "Epoch 7/15\n",
      "3600/3600 [==============================] - 86s 24ms/step - loss: 0.0346 - accuracy: 0.9872 - val_loss: 0.3001 - val_accuracy: 0.8450\n",
      "Epoch 8/15\n",
      "3600/3600 [==============================] - 88s 24ms/step - loss: 0.0194 - accuracy: 0.9936 - val_loss: 0.8003 - val_accuracy: 0.7400\n",
      "Epoch 9/15\n",
      "3600/3600 [==============================] - 88s 25ms/step - loss: 0.0358 - accuracy: 0.9892 - val_loss: 1.1209 - val_accuracy: 0.7425\n",
      "Epoch 10/15\n",
      "3600/3600 [==============================] - 88s 25ms/step - loss: 0.0115 - accuracy: 0.9967 - val_loss: 0.8159 - val_accuracy: 0.7500\n",
      "Epoch 11/15\n",
      "3600/3600 [==============================] - 92s 26ms/step - loss: 0.0029 - accuracy: 1.0000 - val_loss: 0.9393 - val_accuracy: 0.7475\n",
      "Epoch 12/15\n",
      "3600/3600 [==============================] - 90s 25ms/step - loss: 0.0092 - accuracy: 0.9969 - val_loss: 1.0048 - val_accuracy: 0.7750\n",
      "Epoch 13/15\n",
      "3600/3600 [==============================] - 88s 24ms/step - loss: 0.0041 - accuracy: 0.9989 - val_loss: 0.5936 - val_accuracy: 0.8250\n",
      "Epoch 14/15\n",
      "3600/3600 [==============================] - 89s 25ms/step - loss: 0.0023 - accuracy: 0.9994 - val_loss: 0.7781 - val_accuracy: 0.8125\n",
      "Epoch 15/15\n",
      "3600/3600 [==============================] - 87s 24ms/step - loss: 0.0060 - accuracy: 0.9983 - val_loss: 0.4314 - val_accuracy: 0.8750\n",
      "Test loss: 0.4314372515678406\n",
      "Test accuracy: 0.875\n"
     ]
    }
   ],
   "source": [
    "model.fit(X_train, y_train,\n",
    "          batch_size=128,\n",
    "          epochs=15,\n",
    "          verbose=1,\n",
    "          validation_data=(X_test, y_test), callbacks=[early_stop])\n",
    "score = model.evaluate(X_test, y_test, verbose=0)\n",
    "print('Test loss:', score[0])\n",
    "print('Test accuracy:', score[1])"
   ]
  },
  {
   "cell_type": "code",
   "execution_count": 74,
   "metadata": {},
   "outputs": [],
   "source": [
    "model_vals = pd.DataFrame(model.history.history)"
   ]
  },
  {
   "cell_type": "code",
   "execution_count": 75,
   "metadata": {},
   "outputs": [
    {
     "data": {
      "text/html": [
       "<div>\n",
       "<style scoped>\n",
       "    .dataframe tbody tr th:only-of-type {\n",
       "        vertical-align: middle;\n",
       "    }\n",
       "\n",
       "    .dataframe tbody tr th {\n",
       "        vertical-align: top;\n",
       "    }\n",
       "\n",
       "    .dataframe thead th {\n",
       "        text-align: right;\n",
       "    }\n",
       "</style>\n",
       "<table border=\"1\" class=\"dataframe\">\n",
       "  <thead>\n",
       "    <tr style=\"text-align: right;\">\n",
       "      <th></th>\n",
       "      <th>val_loss</th>\n",
       "      <th>val_accuracy</th>\n",
       "      <th>loss</th>\n",
       "      <th>accuracy</th>\n",
       "    </tr>\n",
       "  </thead>\n",
       "  <tbody>\n",
       "    <tr>\n",
       "      <th>0</th>\n",
       "      <td>0.464492</td>\n",
       "      <td>0.7575</td>\n",
       "      <td>0.475780</td>\n",
       "      <td>0.835556</td>\n",
       "    </tr>\n",
       "    <tr>\n",
       "      <th>1</th>\n",
       "      <td>0.785443</td>\n",
       "      <td>0.7325</td>\n",
       "      <td>0.191910</td>\n",
       "      <td>0.932778</td>\n",
       "    </tr>\n",
       "    <tr>\n",
       "      <th>2</th>\n",
       "      <td>0.575634</td>\n",
       "      <td>0.7325</td>\n",
       "      <td>0.118921</td>\n",
       "      <td>0.961667</td>\n",
       "    </tr>\n",
       "    <tr>\n",
       "      <th>3</th>\n",
       "      <td>0.792729</td>\n",
       "      <td>0.7325</td>\n",
       "      <td>0.073788</td>\n",
       "      <td>0.978056</td>\n",
       "    </tr>\n",
       "    <tr>\n",
       "      <th>4</th>\n",
       "      <td>0.914583</td>\n",
       "      <td>0.7325</td>\n",
       "      <td>0.038565</td>\n",
       "      <td>0.990833</td>\n",
       "    </tr>\n",
       "    <tr>\n",
       "      <th>5</th>\n",
       "      <td>1.559872</td>\n",
       "      <td>0.7325</td>\n",
       "      <td>0.023999</td>\n",
       "      <td>0.992222</td>\n",
       "    </tr>\n",
       "    <tr>\n",
       "      <th>6</th>\n",
       "      <td>0.300116</td>\n",
       "      <td>0.8450</td>\n",
       "      <td>0.034637</td>\n",
       "      <td>0.987222</td>\n",
       "    </tr>\n",
       "    <tr>\n",
       "      <th>7</th>\n",
       "      <td>0.800269</td>\n",
       "      <td>0.7400</td>\n",
       "      <td>0.019437</td>\n",
       "      <td>0.993611</td>\n",
       "    </tr>\n",
       "    <tr>\n",
       "      <th>8</th>\n",
       "      <td>1.120854</td>\n",
       "      <td>0.7425</td>\n",
       "      <td>0.035768</td>\n",
       "      <td>0.989167</td>\n",
       "    </tr>\n",
       "    <tr>\n",
       "      <th>9</th>\n",
       "      <td>0.815890</td>\n",
       "      <td>0.7500</td>\n",
       "      <td>0.011489</td>\n",
       "      <td>0.996667</td>\n",
       "    </tr>\n",
       "    <tr>\n",
       "      <th>10</th>\n",
       "      <td>0.939322</td>\n",
       "      <td>0.7475</td>\n",
       "      <td>0.002870</td>\n",
       "      <td>1.000000</td>\n",
       "    </tr>\n",
       "    <tr>\n",
       "      <th>11</th>\n",
       "      <td>1.004847</td>\n",
       "      <td>0.7750</td>\n",
       "      <td>0.009151</td>\n",
       "      <td>0.996944</td>\n",
       "    </tr>\n",
       "    <tr>\n",
       "      <th>12</th>\n",
       "      <td>0.593608</td>\n",
       "      <td>0.8250</td>\n",
       "      <td>0.004079</td>\n",
       "      <td>0.998889</td>\n",
       "    </tr>\n",
       "    <tr>\n",
       "      <th>13</th>\n",
       "      <td>0.778055</td>\n",
       "      <td>0.8125</td>\n",
       "      <td>0.002345</td>\n",
       "      <td>0.999444</td>\n",
       "    </tr>\n",
       "    <tr>\n",
       "      <th>14</th>\n",
       "      <td>0.431437</td>\n",
       "      <td>0.8750</td>\n",
       "      <td>0.005997</td>\n",
       "      <td>0.998333</td>\n",
       "    </tr>\n",
       "  </tbody>\n",
       "</table>\n",
       "</div>"
      ],
      "text/plain": [
       "    val_loss  val_accuracy      loss  accuracy\n",
       "0   0.464492        0.7575  0.475780  0.835556\n",
       "1   0.785443        0.7325  0.191910  0.932778\n",
       "2   0.575634        0.7325  0.118921  0.961667\n",
       "3   0.792729        0.7325  0.073788  0.978056\n",
       "4   0.914583        0.7325  0.038565  0.990833\n",
       "5   1.559872        0.7325  0.023999  0.992222\n",
       "6   0.300116        0.8450  0.034637  0.987222\n",
       "7   0.800269        0.7400  0.019437  0.993611\n",
       "8   1.120854        0.7425  0.035768  0.989167\n",
       "9   0.815890        0.7500  0.011489  0.996667\n",
       "10  0.939322        0.7475  0.002870  1.000000\n",
       "11  1.004847        0.7750  0.009151  0.996944\n",
       "12  0.593608        0.8250  0.004079  0.998889\n",
       "13  0.778055        0.8125  0.002345  0.999444\n",
       "14  0.431437        0.8750  0.005997  0.998333"
      ]
     },
     "execution_count": 75,
     "metadata": {},
     "output_type": "execute_result"
    }
   ],
   "source": [
    "model_vals"
   ]
  },
  {
   "cell_type": "code",
   "execution_count": 76,
   "metadata": {
    "scrolled": false
   },
   "outputs": [
    {
     "data": {
      "text/plain": [
       "<matplotlib.legend.Legend at 0x7f5b9c14c7d0>"
      ]
     },
     "execution_count": 76,
     "metadata": {},
     "output_type": "execute_result"
    },
    {
     "data": {
      "image/png": "[encoded data removed]",
      "text/plain": [
       "<Figure size 432x288 with 1 Axes>"
      ]
     },
     "metadata": {
      "needs_background": "light"
     },
     "output_type": "display_data"
    }
   ],
   "source": [
    "plt.plot(model_vals['val_loss'],label='val_loss')\n",
    "plt.plot(model_vals['loss'],label='loss')\n",
    "plt.legend()"
   ]
  },
  {
   "cell_type": "code",
   "execution_count": null,
   "metadata": {},
   "outputs": [],
   "source": []
  }
 ],
 "metadata": {
  "kernelspec": {
   "display_name": "Python 3",
   "language": "python",
   "name": "python3"
  },
  "language_info": {
   "codemirror_mode": {
    "name": "ipython",
    "version": 3
   },
   "file_extension": ".py",
   "mimetype": "text/x-python",
   "name": "python",
   "nbconvert_exporter": "python",
   "pygments_lexer": "ipython3",
   "version": "3.7.4"
  }
 },
 "nbformat": 4,
 "nbformat_minor": 4
}
